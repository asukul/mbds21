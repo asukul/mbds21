{
  "nbformat": 4,
  "nbformat_minor": 0,
  "metadata": {
    "colab": {
      "name": "GCP cloud_sql_IP",
      "provenance": [],
      "collapsed_sections": [],
      "include_colab_link": true
    },
    "kernelspec": {
      "name": "python3",
      "display_name": "Python 3"
    }
  },
  "cells": [
    {
      "cell_type": "markdown",
      "metadata": {
        "id": "view-in-github",
        "colab_type": "text"
      },
      "source": [
        "<a href=\"https://colab.research.google.com/github/asukul/mbds21/blob/main/GCP_cloud_sql_IP.ipynb\" target=\"_parent\"><img src=\"https://colab.research.google.com/assets/colab-badge.svg\" alt=\"Open In Colab\"/></a>"
      ]
    },
    {
      "cell_type": "markdown",
      "metadata": {
        "id": "CAY5397AyUL-"
      },
      "source": [
        "## **Guide to connect your colab (or jupyter notebook) to MySQL server on GCP Cloud SQL**\n",
        "## We are using pandas to interact with DB through SQL command\n",
        "\n",
        "by Adisak Sukul\n",
        "6-30-2021\n",
        "for DSPG21 reference"
      ]
    },
    {
      "cell_type": "code",
      "metadata": {
        "colab": {
          "base_uri": "https://localhost:8080/"
        },
        "id": "6jyjye0vyFqY",
        "outputId": "1a5b742c-226e-4ee2-dbba-b3793e81077c"
      },
      "source": [
        "# Check your public IP (colab IP),then add it ont the GCP allow ip list\n",
        "\n",
        "from requests import get\n",
        "\n",
        "ip = get('https://api.ipify.org').text\n",
        "print('My public IP address is: {}'.format(ip))"
      ],
      "execution_count": 37,
      "outputs": [
        {
          "output_type": "stream",
          "text": [
            "My public IP address is: 35.201.143.183\n"
          ],
          "name": "stdout"
        }
      ]
    },
    {
      "cell_type": "code",
      "metadata": {
        "id": "sr4Tl6d2icQf"
      },
      "source": [
        "#edit with your username\n",
        "my_username = 'YOUR_USERNAME_ON_CloudSQL'"
      ],
      "execution_count": 38,
      "outputs": []
    },
    {
      "cell_type": "code",
      "metadata": {
        "id": "4MD_0qeliejm"
      },
      "source": [
        "#if your user require password\n",
        "my_password = 'YOUR_PASSWORD_ON_CloudSQL'"
      ],
      "execution_count": 39,
      "outputs": []
    },
    {
      "cell_type": "code",
      "metadata": {
        "id": "MV1w6XieifyV"
      },
      "source": [
        "import os\n",
        "#import mysql.connector"
      ],
      "execution_count": 40,
      "outputs": []
    },
    {
      "cell_type": "code",
      "metadata": {
        "id": "144Agnc-jus_",
        "colab": {
          "base_uri": "https://localhost:8080/"
        },
        "outputId": "cbe4affa-4341-4a2e-b909-96edaba081b8"
      },
      "source": [
        "!pip install PyMySQL\n",
        "import pymysql"
      ],
      "execution_count": 41,
      "outputs": [
        {
          "output_type": "stream",
          "text": [
            "Requirement already satisfied: PyMySQL in /usr/local/lib/python3.7/dist-packages (1.0.2)\n"
          ],
          "name": "stdout"
        }
      ]
    },
    {
      "cell_type": "code",
      "metadata": {
        "id": "cx1-2K7YqXhy"
      },
      "source": [
        "#GCP Cloud SQL server ip\n",
        "\n",
        "host_ip = '34.122.29.185'\n"
      ],
      "execution_count": 42,
      "outputs": []
    },
    {
      "cell_type": "code",
      "metadata": {
        "id": "Fq73IJUZzEDh"
      },
      "source": [
        "db_name = 'egdm'"
      ],
      "execution_count": 43,
      "outputs": []
    },
    {
      "cell_type": "code",
      "metadata": {
        "id": "-epeYenBiwi1",
        "colab": {
          "base_uri": "https://localhost:8080/"
        },
        "outputId": "7b668c6a-31e7-413e-f6a8-3815bfdc16f5"
      },
      "source": [
        "# Connect to the database\n",
        "connection = pymysql.connect (host = host_ip,\n",
        "                             user = my_username,\n",
        "                             password = my_password,\n",
        "                             db = db_name,\n",
        "                             charset = 'utf8',\n",
        "                             cursorclass = pymysql.cursors.DictCursor)\n",
        "\n",
        "print (\"connect successful!!\")"
      ],
      "execution_count": 44,
      "outputs": [
        {
          "output_type": "stream",
          "text": [
            "connect successful!!\n"
          ],
          "name": "stdout"
        }
      ]
    },
    {
      "cell_type": "code",
      "metadata": {
        "colab": {
          "base_uri": "https://localhost:8080/"
        },
        "id": "_awtcRv-tciZ",
        "outputId": "3626f930-4d94-41c5-9167-8aa455f5b04d"
      },
      "source": [
        "connection"
      ],
      "execution_count": 45,
      "outputs": [
        {
          "output_type": "execute_result",
          "data": {
            "text/plain": [
              "<pymysql.connections.Connection at 0x7fe829d838d0>"
            ]
          },
          "metadata": {
            "tags": []
          },
          "execution_count": 45
        }
      ]
    },
    {
      "cell_type": "code",
      "metadata": {
        "id": "z-Msq1jPvTvv"
      },
      "source": [
        "import pandas as pd"
      ],
      "execution_count": 46,
      "outputs": []
    },
    {
      "cell_type": "code",
      "metadata": {
        "id": "KB33GMJtugcK"
      },
      "source": [
        "egdm_tables = pd.read_sql_query(\"SHOW TABLES FROM egdm\", connection)"
      ],
      "execution_count": 47,
      "outputs": []
    },
    {
      "cell_type": "code",
      "metadata": {
        "colab": {
          "base_uri": "https://localhost:8080/",
          "height": 111
        },
        "id": "63oATmcrugNg",
        "outputId": "799cc4c5-3884-4623-cd6f-0e1fb72d3ffc"
      },
      "source": [
        "egdm_tables"
      ],
      "execution_count": 48,
      "outputs": [
        {
          "output_type": "execute_result",
          "data": {
            "text/html": [
              "<div>\n",
              "<style scoped>\n",
              "    .dataframe tbody tr th:only-of-type {\n",
              "        vertical-align: middle;\n",
              "    }\n",
              "\n",
              "    .dataframe tbody tr th {\n",
              "        vertical-align: top;\n",
              "    }\n",
              "\n",
              "    .dataframe thead th {\n",
              "        text-align: right;\n",
              "    }\n",
              "</style>\n",
              "<table border=\"1\" class=\"dataframe\">\n",
              "  <thead>\n",
              "    <tr style=\"text-align: right;\">\n",
              "      <th></th>\n",
              "      <th>Tables_in_egdm</th>\n",
              "    </tr>\n",
              "  </thead>\n",
              "  <tbody>\n",
              "    <tr>\n",
              "      <th>0</th>\n",
              "      <td>partner_test</td>\n",
              "    </tr>\n",
              "    <tr>\n",
              "      <th>1</th>\n",
              "      <td>partner_test1</td>\n",
              "    </tr>\n",
              "  </tbody>\n",
              "</table>\n",
              "</div>"
            ],
            "text/plain": [
              "  Tables_in_egdm\n",
              "0   partner_test\n",
              "1  partner_test1"
            ]
          },
          "metadata": {
            "tags": []
          },
          "execution_count": 48
        }
      ]
    },
    {
      "cell_type": "code",
      "metadata": {
        "id": "HiM6TBUZuf9i"
      },
      "source": [
        "tables = egdm_tables[\"Tables_in_egdm\"]"
      ],
      "execution_count": 49,
      "outputs": []
    },
    {
      "cell_type": "code",
      "metadata": {
        "colab": {
          "base_uri": "https://localhost:8080/"
        },
        "id": "BBnxYxkJufPQ",
        "outputId": "319e5644-a087-4790-f108-ab77a73c4d55"
      },
      "source": [
        "#browse all tables in the database\n",
        "\n",
        "for tables_name in tables:\n",
        "  output = pd.read_sql_query('DESCRIBE {}'.format(tables_name),connection)\n",
        "  print(tables_name)\n",
        "  print(output, '\\n')"
      ],
      "execution_count": 50,
      "outputs": [
        {
          "output_type": "stream",
          "text": [
            "partner_test\n",
            "        Field         Type Null  Key Default Extra\n",
            "0  partner_id      int(11)   NO  PRI    None      \n",
            "1        name  varchar(45)  YES         None      \n",
            "2     address  varchar(45)  YES         None      \n",
            "3        city  varchar(45)  YES         None      \n",
            "4         zip  varchar(45)  YES         None      \n",
            "5     type_id  varchar(45)  YES         None       \n",
            "\n",
            "partner_test1\n",
            "        Field         Type Null  Key Default Extra\n",
            "0  partner_id      int(11)   NO  PRI    None      \n",
            "1        name  varchar(45)  YES         None      \n",
            "2     address  varchar(45)  YES         None      \n",
            "3        city  varchar(45)  YES         None      \n",
            "4         zip  varchar(45)  YES         None      \n",
            "5     type_id  varchar(45)  YES         None       \n",
            "\n"
          ],
          "name": "stdout"
        }
      ]
    },
    {
      "cell_type": "code",
      "metadata": {
        "id": "CCd3Eq6fxFI2"
      },
      "source": [
        "partner_test1 = pd.read_sql_query(\"SELECT * from partner_test1\", connection)\n"
      ],
      "execution_count": 51,
      "outputs": []
    },
    {
      "cell_type": "code",
      "metadata": {
        "colab": {
          "base_uri": "https://localhost:8080/",
          "height": 80
        },
        "id": "vpGUyIIAxT5G",
        "outputId": "5c3194b6-5eea-49a1-d9dc-d907c6225a1d"
      },
      "source": [
        "partner_test1"
      ],
      "execution_count": 52,
      "outputs": [
        {
          "output_type": "execute_result",
          "data": {
            "text/html": [
              "<div>\n",
              "<style scoped>\n",
              "    .dataframe tbody tr th:only-of-type {\n",
              "        vertical-align: middle;\n",
              "    }\n",
              "\n",
              "    .dataframe tbody tr th {\n",
              "        vertical-align: top;\n",
              "    }\n",
              "\n",
              "    .dataframe thead th {\n",
              "        text-align: right;\n",
              "    }\n",
              "</style>\n",
              "<table border=\"1\" class=\"dataframe\">\n",
              "  <thead>\n",
              "    <tr style=\"text-align: right;\">\n",
              "      <th></th>\n",
              "      <th>partner_id</th>\n",
              "      <th>name</th>\n",
              "      <th>address</th>\n",
              "      <th>city</th>\n",
              "      <th>zip</th>\n",
              "      <th>type_id</th>\n",
              "    </tr>\n",
              "  </thead>\n",
              "  <tbody>\n",
              "    <tr>\n",
              "      <th>0</th>\n",
              "      <td>5</td>\n",
              "      <td>DSPG Corp.</td>\n",
              "      <td>Park Library</td>\n",
              "      <td>Ames</td>\n",
              "      <td>50011</td>\n",
              "      <td>9</td>\n",
              "    </tr>\n",
              "  </tbody>\n",
              "</table>\n",
              "</div>"
            ],
            "text/plain": [
              "   partner_id        name       address  city    zip type_id\n",
              "0           5  DSPG Corp.  Park Library  Ames  50011       9"
            ]
          },
          "metadata": {
            "tags": []
          },
          "execution_count": 52
        }
      ]
    },
    {
      "cell_type": "code",
      "metadata": {
        "id": "7wDOfzhRxe-W"
      },
      "source": [
        ""
      ],
      "execution_count": 52,
      "outputs": []
    },
    {
      "cell_type": "code",
      "metadata": {
        "id": "EVsJkTqJthQg"
      },
      "source": [
        "#use this to test connection only\n",
        "\n",
        "\n",
        "# try:\n",
        "  \n",
        " \n",
        "#     with connection.cursor() as cursor:\n",
        "       \n",
        "#         # SQL \n",
        "#         sql = \"SHOW TABLES FROM egdm\"\n",
        "         \n",
        "#         # Execute query.\n",
        "#         cursor.execute(sql)\n",
        "         \n",
        "#         print (\"cursor.description: \", cursor.description)\n",
        " \n",
        "#         print()\n",
        " \n",
        "#         for row in cursor:\n",
        "#             print(row)\n",
        "             \n",
        "# finally:\n",
        "#     # Close connection.\n",
        "#     connection.close()\n"
      ],
      "execution_count": 53,
      "outputs": []
    },
    {
      "cell_type": "code",
      "metadata": {
        "id": "j-ADevp3wNTX"
      },
      "source": [
        ""
      ],
      "execution_count": 53,
      "outputs": []
    },
    {
      "cell_type": "code",
      "metadata": {
        "id": "yakj01SHitGI"
      },
      "source": [
        "#This is just Adisak backup code\n",
        "#in the case we need to switch adapter to mysql.connector\n",
        "\n",
        "\n",
        "# !pip install PyMySQL\n",
        "# !pip install mysql-connector-python\n",
        "\n",
        "#connection = mysql.connector.connect(host = 'localhost',\n",
        "#                                     user = my_username,\n",
        "#                                     password = my_password,\n",
        "#                                     db = 'egdm')"
      ],
      "execution_count": 54,
      "outputs": []
    }
  ]
}